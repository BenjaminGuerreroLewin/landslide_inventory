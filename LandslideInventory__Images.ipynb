{
  "nbformat": 4,
  "nbformat_minor": 0,
  "metadata": {
    "colab": {
      "provenance": [],
      "authorship_tag": "ABX9TyPSQyanuf6dfsY22BWAHVlS",
      "include_colab_link": true
    },
    "kernelspec": {
      "name": "python3",
      "display_name": "Python 3"
    },
    "language_info": {
      "name": "python"
    }
  },
  "cells": [
    {
      "cell_type": "markdown",
      "metadata": {
        "id": "view-in-github",
        "colab_type": "text"
      },
      "source": [
        "<a href=\"https://colab.research.google.com/github/BenjaminGuerreroLewin/landslide_inventory/blob/main/LandslideInventory__Images.ipynb\" target=\"_parent\"><img src=\"https://colab.research.google.com/assets/colab-badge.svg\" alt=\"Open In Colab\"/></a>"
      ]
    },
    {
      "cell_type": "code",
      "execution_count": 1,
      "metadata": {
        "colab": {
          "base_uri": "https://localhost:8080/"
        },
        "id": "ZctyqfC_3T2m",
        "outputId": "d2278cea-34bf-423c-cd52-b5f311552b2f"
      },
      "outputs": [
        {
          "output_type": "stream",
          "name": "stdout",
          "text": [
            "Mounted at /content/drive\n"
          ]
        }
      ],
      "source": [
        "#attach to Google Drive\n",
        "from google.colab import drive\n",
        "drive.mount('/content/drive')"
      ]
    },
    {
      "cell_type": "code",
      "source": [
        "# Import GDAL, NumPy, and matplotlib\n",
        "from osgeo import gdal, gdal_array\n",
        "import numpy as np\n",
        "import matplotlib.pyplot as plt\n",
        "%matplotlib inline"
      ],
      "metadata": {
        "id": "kT1_3SUH3dwV"
      },
      "execution_count": null,
      "outputs": []
    },
    {
      "cell_type": "markdown",
      "source": [
        "Use GDAL to import pre-processed rasters."
      ],
      "metadata": {
        "id": "djjlVxbR5SPz"
      }
    },
    {
      "cell_type": "code",
      "source": [
        "# Read images stored on Google Drive\n",
        "Pre-Gorkha = gdal.Open('/content/drive/MyDrive/EnvDatSci_FinalProject/Pre-Gorkha Eartquake.tif', gdal.GA_ReadOnly)\n",
        "Post-Gorkha = gdal.Open('/content/drive/MyDrive/EnvDatSci_FinalProject/Post-Gorkha Eartquake.tif', gdal.GA_ReadOnly)\n",
        "Indices = gdal.Open('/content/drive/MyDrive/EnvDatSci_FinalProject/Gorkha Landslides.tif', gdal.GA_ReadOnly)"
      ],
      "metadata": {
        "id": "BN0aETel3gwr"
      },
      "execution_count": null,
      "outputs": []
    },
    {
      "cell_type": "markdown",
      "source": [
        "Display Pre- and Post-Gorkha Earthquake Images"
      ],
      "metadata": {
        "id": "t0BTXTEl7Iq9"
      }
    },
    {
      "cell_type": "code",
      "source": [
        "plt.subplot(121)\n",
        "plt.imshow(Pre-Gorkha[:, :, 0], cmap=plt.cm.Spectral)\n",
        "plt.title('Pre-Gorkha Earthquake composite image')\n",
        "\n",
        "plt.subplot(122)\n",
        "plt.imshow(Pre-Gorkha[:, :, 1], cmap=plt.cm.Spectral)\n",
        "plt.title('Post-Gorkha Earthquake composite image')\n",
        "\n",
        "fig = plt.gcf()\n",
        "fig.set_size_inches(18.5, 18.5)"
      ],
      "metadata": {
        "id": "GhO2IkXQ7a9F"
      },
      "execution_count": null,
      "outputs": []
    },
    {
      "cell_type": "markdown",
      "source": [
        "Display Indices Image: Variation in NDVI, NDSI and ROG values on the Himalayas due to earthquake-induced landslides "
      ],
      "metadata": {
        "id": "loqp6bSL65Qh"
      }
    },
    {
      "cell_type": "code",
      "source": [
        "# Display Indices Image\n",
        "\n",
        "plt.subplot(311)\n",
        "plt.imshow(Indices[:, :, 0], cmap=plt.cm.Spectral)\n",
        "plt.title('Variation in NDVI')\n",
        "\n",
        "plt.subplot(312)\n",
        "plt.imshow(Indices[:, :, 1], cmap=plt.cm.Spectral)\n",
        "plt.title('Variation in NDSI')\n",
        "\n",
        "plt.subplot(313)\n",
        "plt.imshow(Indices[:, :, 2], cmap=plt.cm.Spectral)\n",
        "plt.title('Variation in ROG')\n",
        "\n",
        "fig = plt.gcf()\n",
        "fig.set_size_inches(18.5, 18.5)"
      ],
      "metadata": {
        "id": "uOy9d-w053Gb"
      },
      "execution_count": null,
      "outputs": []
    }
  ]
}